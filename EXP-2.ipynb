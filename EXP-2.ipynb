{
  "cells": [
    {
      "cell_type": "markdown",
      "id": "excessive-adrian",
      "metadata": {
        "id": "excessive-adrian"
      },
      "source": [
        "Experiment 02 ~ NLP DLOC ~ Sahil Gujral ~ Roll No. 15 ~ Dept. of CSE (DS) ~ VCET"
      ]
    },
    {
      "cell_type": "markdown",
      "id": "regular-fellow",
      "metadata": {
        "id": "regular-fellow"
      },
      "source": [
        "### Library required for Preprocessing"
      ]
    },
    {
      "cell_type": "code",
      "execution_count": null,
      "id": "million-methodology",
      "metadata": {
        "id": "million-methodology",
        "outputId": "82295147-6ac5-487d-b199-f4ac056690e0"
      },
      "outputs": [
        {
          "name": "stdout",
          "output_type": "stream",
          "text": [
            "Requirement already satisfied: nltk in c:\\users\\admin\\appdata\\local\\programs\\python\\python37\\lib\\site-packages (3.6.2)\n",
            "Requirement already satisfied: tqdm in c:\\users\\admin\\appdata\\local\\programs\\python\\python37\\lib\\site-packages (from nltk) (4.60.0)\n",
            "Requirement already satisfied: joblib in c:\\users\\admin\\appdata\\local\\programs\\python\\python37\\lib\\site-packages (from nltk) (1.0.0)\n",
            "Requirement already satisfied: click in c:\\users\\admin\\appdata\\local\\programs\\python\\python37\\lib\\site-packages (from nltk) (7.1.2)\n",
            "Requirement already satisfied: regex in c:\\users\\admin\\appdata\\local\\programs\\python\\python37\\lib\\site-packages (from nltk) (2021.4.4)\n"
          ]
        },
        {
          "name": "stderr",
          "output_type": "stream",
          "text": [
            "WARNING: You are using pip version 22.0; however, version 23.2.1 is available.\n",
            "You should consider upgrading via the 'c:\\users\\admin\\appdata\\local\\programs\\python\\python37\\python.exe -m pip install --upgrade pip' command.\n"
          ]
        }
      ],
      "source": [
        "!pip install nltk"
      ]
    },
    {
      "cell_type": "code",
      "execution_count": null,
      "id": "alien-breathing",
      "metadata": {
        "id": "alien-breathing"
      },
      "outputs": [],
      "source": [
        "import nltk"
      ]
    },
    {
      "cell_type": "code",
      "execution_count": null,
      "id": "juvenile-powder",
      "metadata": {
        "id": "juvenile-powder",
        "outputId": "6e07b479-7cdf-4ebc-8b41-8f21a3ac0aff"
      },
      "outputs": [
        {
          "name": "stdout",
          "output_type": "stream",
          "text": [
            "showing info https://raw.githubusercontent.com/nltk/nltk_data/gh-pages/index.xml\n"
          ]
        },
        {
          "data": {
            "text/plain": [
              "True"
            ]
          },
          "execution_count": 3,
          "metadata": {},
          "output_type": "execute_result"
        }
      ],
      "source": [
        "nltk.download()"
      ]
    },
    {
      "cell_type": "markdown",
      "id": "funded-pontiac",
      "metadata": {
        "id": "funded-pontiac"
      },
      "source": [
        "### Sentence Tokenization"
      ]
    },
    {
      "cell_type": "code",
      "execution_count": null,
      "id": "offshore-contrast",
      "metadata": {
        "id": "offshore-contrast"
      },
      "outputs": [],
      "source": [
        "from nltk.tokenize import sent_tokenize"
      ]
    },
    {
      "cell_type": "code",
      "execution_count": null,
      "id": "tested-portable",
      "metadata": {
        "id": "tested-portable"
      },
      "outputs": [],
      "source": [
        "text = '''Stephenson 2-18 is now known as being one of the largest, if not the current largest star ever discovered, surpassing other stars like VY Canis Majoris and UY Scuti.\n",
        "        Stephenson 2-18 has a radius of 2,150 solar radii, being larger than almost the entire orbit of Saturn (1,940 - 2,169 solar radii).'''"
      ]
    },
    {
      "cell_type": "code",
      "execution_count": null,
      "id": "handmade-wedding",
      "metadata": {
        "id": "handmade-wedding",
        "outputId": "9f025b63-7e90-47f4-d3c8-357bfba7dcbd"
      },
      "outputs": [
        {
          "data": {
            "text/plain": [
              "'Stephenson 2-18 is now known as being one of the largest, if not the current largest star ever discovered, surpassing other stars like VY Canis Majoris and UY Scuti.\\n        Stephenson 2-18 has a radius of 2,150 solar radii, being larger than almost the entire orbit of Saturn (1,940 - 2,169 solar radii).'"
            ]
          },
          "execution_count": 16,
          "metadata": {},
          "output_type": "execute_result"
        }
      ],
      "source": [
        "text"
      ]
    },
    {
      "cell_type": "code",
      "execution_count": null,
      "id": "curious-legislature",
      "metadata": {
        "id": "curious-legislature"
      },
      "outputs": [],
      "source": [
        "sentences = sent_tokenize (text)"
      ]
    },
    {
      "cell_type": "code",
      "execution_count": null,
      "id": "bored-narrative",
      "metadata": {
        "id": "bored-narrative",
        "outputId": "f3f942e7-6d34-4db7-81c1-4a342a3d3752"
      },
      "outputs": [
        {
          "data": {
            "text/plain": [
              "['Stephenson 2-18 is now known as being one of the largest, if not the current largest star ever discovered, surpassing other stars like VY Canis Majoris and UY Scuti.',\n",
              " 'Stephenson 2-18 has a radius of 2,150 solar radii, being larger than almost the entire orbit of Saturn (1,940 - 2,169 solar radii).']"
            ]
          },
          "execution_count": 18,
          "metadata": {},
          "output_type": "execute_result"
        }
      ],
      "source": [
        "sentences"
      ]
    },
    {
      "cell_type": "markdown",
      "id": "suitable-franchise",
      "metadata": {
        "id": "suitable-franchise"
      },
      "source": [
        "### Word Tokenization"
      ]
    },
    {
      "cell_type": "code",
      "execution_count": null,
      "id": "alien-basin",
      "metadata": {
        "id": "alien-basin"
      },
      "outputs": [],
      "source": [
        "from nltk.tokenize import word_tokenize"
      ]
    },
    {
      "cell_type": "code",
      "execution_count": null,
      "id": "innovative-hayes",
      "metadata": {
        "id": "innovative-hayes"
      },
      "outputs": [],
      "source": [
        "words = word_tokenize (text)"
      ]
    },
    {
      "cell_type": "code",
      "execution_count": null,
      "id": "sporting-medicare",
      "metadata": {
        "id": "sporting-medicare",
        "outputId": "fb29dfa4-ea64-4ab3-9a2b-b2ca561df9c0"
      },
      "outputs": [
        {
          "data": {
            "text/plain": [
              "['Stephenson',\n",
              " '2-18',\n",
              " 'is',\n",
              " 'now',\n",
              " 'known',\n",
              " 'as',\n",
              " 'being',\n",
              " 'one',\n",
              " 'of',\n",
              " 'the',\n",
              " 'largest',\n",
              " ',',\n",
              " 'if',\n",
              " 'not',\n",
              " 'the',\n",
              " 'current',\n",
              " 'largest',\n",
              " 'star',\n",
              " 'ever',\n",
              " 'discovered',\n",
              " ',',\n",
              " 'surpassing',\n",
              " 'other',\n",
              " 'stars',\n",
              " 'like',\n",
              " 'VY',\n",
              " 'Canis',\n",
              " 'Majoris',\n",
              " 'and',\n",
              " 'UY',\n",
              " 'Scuti',\n",
              " '.',\n",
              " 'Stephenson',\n",
              " '2-18',\n",
              " 'has',\n",
              " 'a',\n",
              " 'radius',\n",
              " 'of',\n",
              " '2,150',\n",
              " 'solar',\n",
              " 'radii',\n",
              " ',',\n",
              " 'being',\n",
              " 'larger',\n",
              " 'than',\n",
              " 'almost',\n",
              " 'the',\n",
              " 'entire',\n",
              " 'orbit',\n",
              " 'of',\n",
              " 'Saturn',\n",
              " '(',\n",
              " '1,940',\n",
              " '-',\n",
              " '2,169',\n",
              " 'solar',\n",
              " 'radii',\n",
              " ')',\n",
              " '.']"
            ]
          },
          "execution_count": 21,
          "metadata": {},
          "output_type": "execute_result"
        }
      ],
      "source": [
        "words"
      ]
    },
    {
      "cell_type": "code",
      "execution_count": null,
      "id": "hybrid-motivation",
      "metadata": {
        "id": "hybrid-motivation",
        "outputId": "33edc5ff-0aaa-4e5c-b09e-6e216a41dcc6"
      },
      "outputs": [
        {
          "name": "stdout",
          "output_type": "stream",
          "text": [
            "Stephenson\n",
            "2-18\n",
            "is\n",
            "now\n",
            "known\n",
            "as\n",
            "being\n",
            "one\n",
            "of\n",
            "the\n",
            "largest\n",
            ",\n",
            "if\n",
            "not\n",
            "the\n",
            "current\n",
            "largest\n",
            "star\n",
            "ever\n",
            "discovered\n",
            ",\n",
            "surpassing\n",
            "other\n",
            "stars\n",
            "like\n",
            "VY\n",
            "Canis\n",
            "Majoris\n",
            "and\n",
            "UY\n",
            "Scuti\n",
            ".\n",
            "Stephenson\n",
            "2-18\n",
            "has\n",
            "a\n",
            "radius\n",
            "of\n",
            "2,150\n",
            "solar\n",
            "radii\n",
            ",\n",
            "being\n",
            "larger\n",
            "than\n",
            "almost\n",
            "the\n",
            "entire\n",
            "orbit\n",
            "of\n",
            "Saturn\n",
            "(\n",
            "1,940\n",
            "-\n",
            "2,169\n",
            "solar\n",
            "radii\n",
            ")\n",
            ".\n"
          ]
        }
      ],
      "source": [
        "for w in words:\n",
        "    print (w)"
      ]
    },
    {
      "cell_type": "markdown",
      "id": "related-submission",
      "metadata": {
        "id": "related-submission"
      },
      "source": [
        "### Levels of Sentences Tokenization using Comprehension"
      ]
    },
    {
      "cell_type": "code",
      "execution_count": null,
      "id": "german-vintage",
      "metadata": {
        "id": "german-vintage",
        "outputId": "57bd8d6c-d590-42ad-992f-12b802c986bb"
      },
      "outputs": [
        {
          "data": {
            "text/plain": [
              "['Stephenson 2-18 is now known as being one of the largest, if not the current largest star ever discovered, surpassing other stars like VY Canis Majoris and UY Scuti.',\n",
              " 'Stephenson 2-18 has a radius of 2,150 solar radii, being larger than almost the entire orbit of Saturn (1,940 - 2,169 solar radii).']"
            ]
          },
          "execution_count": 23,
          "metadata": {},
          "output_type": "execute_result"
        }
      ],
      "source": [
        "sent_tokenize (text)"
      ]
    },
    {
      "cell_type": "code",
      "execution_count": null,
      "id": "cardiovascular-hazard",
      "metadata": {
        "id": "cardiovascular-hazard",
        "outputId": "b26ecfa4-b4f0-41e3-ef0b-a5121970027c"
      },
      "outputs": [
        {
          "data": {
            "text/plain": [
              "[['Stephenson',\n",
              "  '2-18',\n",
              "  'is',\n",
              "  'now',\n",
              "  'known',\n",
              "  'as',\n",
              "  'being',\n",
              "  'one',\n",
              "  'of',\n",
              "  'the',\n",
              "  'largest',\n",
              "  ',',\n",
              "  'if',\n",
              "  'not',\n",
              "  'the',\n",
              "  'current',\n",
              "  'largest',\n",
              "  'star',\n",
              "  'ever',\n",
              "  'discovered',\n",
              "  ',',\n",
              "  'surpassing',\n",
              "  'other',\n",
              "  'stars',\n",
              "  'like',\n",
              "  'VY',\n",
              "  'Canis',\n",
              "  'Majoris',\n",
              "  'and',\n",
              "  'UY',\n",
              "  'Scuti',\n",
              "  '.',\n",
              "  'Stephenson',\n",
              "  '2-18',\n",
              "  'has',\n",
              "  'a',\n",
              "  'radius',\n",
              "  'of',\n",
              "  '2,150',\n",
              "  'solar',\n",
              "  'radii',\n",
              "  ',',\n",
              "  'being',\n",
              "  'larger',\n",
              "  'than',\n",
              "  'almost',\n",
              "  'the',\n",
              "  'entire',\n",
              "  'orbit',\n",
              "  'of',\n",
              "  'Saturn',\n",
              "  '(',\n",
              "  '1,940',\n",
              "  '-',\n",
              "  '2,169',\n",
              "  'solar',\n",
              "  'radii',\n",
              "  ')',\n",
              "  '.'],\n",
              " ['Stephenson',\n",
              "  '2-18',\n",
              "  'is',\n",
              "  'now',\n",
              "  'known',\n",
              "  'as',\n",
              "  'being',\n",
              "  'one',\n",
              "  'of',\n",
              "  'the',\n",
              "  'largest',\n",
              "  ',',\n",
              "  'if',\n",
              "  'not',\n",
              "  'the',\n",
              "  'current',\n",
              "  'largest',\n",
              "  'star',\n",
              "  'ever',\n",
              "  'discovered',\n",
              "  ',',\n",
              "  'surpassing',\n",
              "  'other',\n",
              "  'stars',\n",
              "  'like',\n",
              "  'VY',\n",
              "  'Canis',\n",
              "  'Majoris',\n",
              "  'and',\n",
              "  'UY',\n",
              "  'Scuti',\n",
              "  '.',\n",
              "  'Stephenson',\n",
              "  '2-18',\n",
              "  'has',\n",
              "  'a',\n",
              "  'radius',\n",
              "  'of',\n",
              "  '2,150',\n",
              "  'solar',\n",
              "  'radii',\n",
              "  ',',\n",
              "  'being',\n",
              "  'larger',\n",
              "  'than',\n",
              "  'almost',\n",
              "  'the',\n",
              "  'entire',\n",
              "  'orbit',\n",
              "  'of',\n",
              "  'Saturn',\n",
              "  '(',\n",
              "  '1,940',\n",
              "  '-',\n",
              "  '2,169',\n",
              "  'solar',\n",
              "  'radii',\n",
              "  ')',\n",
              "  '.']]"
            ]
          },
          "execution_count": 24,
          "metadata": {},
          "output_type": "execute_result"
        }
      ],
      "source": [
        "[word_tokenize (text) for t in sent_tokenize(text)]"
      ]
    },
    {
      "cell_type": "code",
      "execution_count": null,
      "id": "saving-trade",
      "metadata": {
        "id": "saving-trade"
      },
      "outputs": [],
      "source": [
        "from nltk.tokenize import wordpunct_tokenize"
      ]
    },
    {
      "cell_type": "code",
      "execution_count": null,
      "id": "decimal-presence",
      "metadata": {
        "id": "decimal-presence",
        "outputId": "f9e79dd9-9a39-4249-826e-60c14f0f8fb4"
      },
      "outputs": [
        {
          "data": {
            "text/plain": [
              "['Stephenson',\n",
              " '2',\n",
              " '-',\n",
              " '18',\n",
              " 'is',\n",
              " 'now',\n",
              " 'known',\n",
              " 'as',\n",
              " 'being',\n",
              " 'one',\n",
              " 'of',\n",
              " 'the',\n",
              " 'largest',\n",
              " ',',\n",
              " 'if',\n",
              " 'not',\n",
              " 'the',\n",
              " 'current',\n",
              " 'largest',\n",
              " 'star',\n",
              " 'ever',\n",
              " 'discovered',\n",
              " ',',\n",
              " 'surpassing',\n",
              " 'other',\n",
              " 'stars',\n",
              " 'like',\n",
              " 'VY',\n",
              " 'Canis',\n",
              " 'Majoris',\n",
              " 'and',\n",
              " 'UY',\n",
              " 'Scuti',\n",
              " '.',\n",
              " 'Stephenson',\n",
              " '2',\n",
              " '-',\n",
              " '18',\n",
              " 'has',\n",
              " 'a',\n",
              " 'radius',\n",
              " 'of',\n",
              " '2',\n",
              " ',',\n",
              " '150',\n",
              " 'solar',\n",
              " 'radii',\n",
              " ',',\n",
              " 'being',\n",
              " 'larger',\n",
              " 'than',\n",
              " 'almost',\n",
              " 'the',\n",
              " 'entire',\n",
              " 'orbit',\n",
              " 'of',\n",
              " 'Saturn',\n",
              " '(',\n",
              " '1',\n",
              " ',',\n",
              " '940',\n",
              " '-',\n",
              " '2',\n",
              " ',',\n",
              " '169',\n",
              " 'solar',\n",
              " 'radii',\n",
              " ').']"
            ]
          },
          "execution_count": 26,
          "metadata": {},
          "output_type": "execute_result"
        }
      ],
      "source": [
        "wordpunct_tokenize (text)"
      ]
    },
    {
      "cell_type": "markdown",
      "id": "equal-kitty",
      "metadata": {
        "id": "equal-kitty"
      },
      "source": [
        "### Filteration of Text by converting into lower case"
      ]
    },
    {
      "cell_type": "code",
      "execution_count": null,
      "id": "alpha-cannon",
      "metadata": {
        "id": "alpha-cannon",
        "outputId": "ef3e87c8-40fc-49c5-a98a-9e1c6b964a5c"
      },
      "outputs": [
        {
          "data": {
            "text/plain": [
              "'stephenson 2-18 is now known as being one of the largest, if not the current largest star ever discovered, surpassing other stars like vy canis majoris and uy scuti.\\n        stephenson 2-18 has a radius of 2,150 solar radii, being larger than almost the entire orbit of saturn (1,940 - 2,169 solar radii).'"
            ]
          },
          "execution_count": 27,
          "metadata": {},
          "output_type": "execute_result"
        }
      ],
      "source": [
        "text.lower()"
      ]
    },
    {
      "cell_type": "code",
      "execution_count": null,
      "id": "bulgarian-performer",
      "metadata": {
        "id": "bulgarian-performer",
        "outputId": "630bd6c5-d767-4768-a6f1-2cded3d98dfb"
      },
      "outputs": [
        {
          "data": {
            "text/plain": [
              "'STEPHENSON 2-18 IS NOW KNOWN AS BEING ONE OF THE LARGEST, IF NOT THE CURRENT LARGEST STAR EVER DISCOVERED, SURPASSING OTHER STARS LIKE VY CANIS MAJORIS AND UY SCUTI.\\n        STEPHENSON 2-18 HAS A RADIUS OF 2,150 SOLAR RADII, BEING LARGER THAN ALMOST THE ENTIRE ORBIT OF SATURN (1,940 - 2,169 SOLAR RADII).'"
            ]
          },
          "execution_count": 28,
          "metadata": {},
          "output_type": "execute_result"
        }
      ],
      "source": [
        "text.upper()"
      ]
    }
  ],
  "metadata": {
    "kernelspec": {
      "display_name": "Python 3",
      "language": "python",
      "name": "python3"
    },
    "language_info": {
      "codemirror_mode": {
        "name": "ipython",
        "version": 3
      },
      "file_extension": ".py",
      "mimetype": "text/x-python",
      "name": "python",
      "nbconvert_exporter": "python",
      "pygments_lexer": "ipython3",
      "version": "3.7.0"
    },
    "colab": {
      "provenance": []
    }
  },
  "nbformat": 4,
  "nbformat_minor": 5
}